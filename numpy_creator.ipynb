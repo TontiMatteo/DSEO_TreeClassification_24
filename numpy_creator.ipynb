{
 "cells": [
  {
   "cell_type": "code",
   "execution_count": 1,
   "id": "137eac6c-658b-45be-b343-445b4db57278",
   "metadata": {},
   "outputs": [],
   "source": [
    "import geopandas as gpd\n",
    "import pandas as pd\n",
    "import os\n",
    "import numpy as np\n",
    "from sklearn.model_selection import train_test_split\n",
    "from sklearn.preprocessing import OneHotEncoder\n",
    "import matplotlib.pyplot as plt\n",
    "from sklearn.ensemble import RandomForestClassifier\n",
    "from sklearn.metrics import confusion_matrix\n",
    "from sklearn.metrics import ConfusionMatrixDisplay\n",
    "from sklearn.metrics import accuracy_score\n"
   ]
  },
  {
   "cell_type": "code",
   "execution_count": 2,
   "id": "2bb7b6e4-c369-4156-9fd9-a62ffa6102db",
   "metadata": {},
   "outputs": [],
   "source": [
    "merged_data = gpd.read_file(\"data/merged_data_allmonths_selectedbands_cloud20.geojson\")\n"
   ]
  },
  {
   "cell_type": "code",
   "execution_count": 5,
   "id": "cbab45ec-3389-4504-980c-4d5592169b30",
   "metadata": {},
   "outputs": [
    {
     "name": "stdout",
     "output_type": "stream",
     "text": [
      "       european beech  cherry  european ash  linden  sycamore maple  \\\n",
      "0                   1       0             0       0               0   \n",
      "1                   1       0             0       0               0   \n",
      "2                   1       0             0       0               0   \n",
      "3                   1       0             0       0               0   \n",
      "4                   1       0             0       0               0   \n",
      "...               ...     ...           ...     ...             ...   \n",
      "86440               0       0             0       0               0   \n",
      "86441               0       0             0       0               0   \n",
      "86442               0       0             0       0               0   \n",
      "86443               0       0             0       0               0   \n",
      "86444               0       0             0       0               0   \n",
      "\n",
      "       english oak  red oak  sessile oak  alder  birch  poplar  douglas fir  \\\n",
      "0                0        0            0      0      0       0            0   \n",
      "1                0        0            0      0      0       0            0   \n",
      "2                0        0            0      0      0       0            0   \n",
      "3                0        0            0      0      0       0            0   \n",
      "4                0        0            0      0      0       0            0   \n",
      "...            ...      ...          ...    ...    ...     ...          ...   \n",
      "86440            0        0            0      0      0       0            0   \n",
      "86441            0        0            0      0      0       0            0   \n",
      "86442            0        0            0      0      0       0            0   \n",
      "86443            0        0            0      0      0       0            0   \n",
      "86444            0        0            0      0      0       0            0   \n",
      "\n",
      "       silver fir  european larch  japanese larch  black pine  scots pine  \\\n",
      "0               0               0               0           0           0   \n",
      "1               0               0               0           0           0   \n",
      "2               0               0               0           0           0   \n",
      "3               0               0               0           0           0   \n",
      "4               0               0               0           0           0   \n",
      "...           ...             ...             ...         ...         ...   \n",
      "86440           0               0               0           0           0   \n",
      "86441           0               0               0           0           0   \n",
      "86442           0               0               0           0           0   \n",
      "86443           0               0               0           0           0   \n",
      "86444           0               0               0           0           0   \n",
      "\n",
      "       weymouth pine  norway spruce  \n",
      "0                  0              0  \n",
      "1                  0              0  \n",
      "2                  0              0  \n",
      "3                  0              0  \n",
      "4                  0              0  \n",
      "...              ...            ...  \n",
      "86440              0              1  \n",
      "86441              0              1  \n",
      "86442              0              1  \n",
      "86443              0              1  \n",
      "86444              0              1  \n",
      "\n",
      "[86445 rows x 19 columns]\n"
     ]
    }
   ],
   "source": [
    "# Assuming your data is loaded into df\n",
    "# Get unique species\n",
    "unique_species = merged_data['l3_species'].unique()\n",
    "\n",
    "# Create a new label DataFrame with rows = images and columns = species, initialized to 0\n",
    "merged_data['id'] = range(len(merged_data))\n",
    "labels = pd.DataFrame(0, index=merged_data['id'], columns=unique_species)\n",
    "\n",
    "# Populate the label DataFrame\n",
    "for idx, row in merged_data.iterrows():\n",
    "    species = row['l3_species']\n",
    "    labels.loc[row['id'], species] = 1\n",
    "\n",
    "# Reset the index for better readability (optional)\n",
    "labels.reset_index(inplace=True)\n",
    "labels.rename(columns={'index': 'id'}, inplace=True)\n",
    "labels = labels.iloc[:, 1:]\n",
    "\n",
    "# Show the resulting DataFrame\n",
    "print(labels)"
   ]
  },
  {
   "cell_type": "code",
   "execution_count": 6,
   "id": "4aac5c0e-c4b2-40e0-8e72-20a55afdc04f",
   "metadata": {},
   "outputs": [
    {
     "name": "stdout",
     "output_type": "stream",
     "text": [
      "[[1 0 0 ... 0 0 0]\n",
      " [1 0 0 ... 0 0 0]\n",
      " [1 0 0 ... 0 0 0]\n",
      " ...\n",
      " [0 0 0 ... 0 0 1]\n",
      " [0 0 0 ... 0 0 1]\n",
      " [0 0 0 ... 0 0 1]]\n"
     ]
    }
   ],
   "source": [
    "labels = labels.values\n",
    "\n",
    "print(labels)"
   ]
  },
  {
   "cell_type": "code",
   "execution_count": 8,
   "id": "81a978a7-d975-4c61-a253-287abab2fb2c",
   "metadata": {},
   "outputs": [
    {
     "name": "stdout",
     "output_type": "stream",
     "text": [
      "[[1 0 0 0 0 0 0 0 0 0 0 0 0 0 0 0 0 0 0]\n",
      " [1 0 0 0 0 0 0 0 0 0 0 0 0 0 0 0 0 0 0]\n",
      " [1 0 0 0 0 0 0 0 0 0 0 0 0 0 0 0 0 0 0]\n",
      " [1 0 0 0 0 0 0 0 0 0 0 0 0 0 0 0 0 0 0]\n",
      " [1 0 0 0 0 0 0 0 0 0 0 0 0 0 0 0 0 0 0]\n",
      " [1 0 0 0 0 0 0 0 0 0 0 0 0 0 0 0 0 0 0]\n",
      " [1 0 0 0 0 0 0 0 0 0 0 0 0 0 0 0 0 0 0]\n",
      " [1 0 0 0 0 0 0 0 0 0 0 0 0 0 0 0 0 0 0]\n",
      " [1 0 0 0 0 0 0 0 0 0 0 0 0 0 0 0 0 0 0]\n",
      " [1 0 0 0 0 0 0 0 0 0 0 0 0 0 0 0 0 0 0]]\n",
      "<class 'numpy.ndarray'>\n",
      "                                                 B11  \\\n",
      "0  [ [ 0.30860000848770142, 0.30860000848770142, ...   \n",
      "1  [ [ 0.18799999356269836, 0.19380000233650208, ...   \n",
      "2  [ [ 0.20035000145435333, 0.20675000548362732, ...   \n",
      "3  [ [ 0.2955000102519989, 0.27259999513626099, 0...   \n",
      "4  [ [ 0.26890000700950623, 0.26890000700950623, ...   \n",
      "\n",
      "                                                  B3  \\\n",
      "0  [ [ 0.14970000088214874, 0.14970000088214874, ...   \n",
      "1  [ [ 0.12559999525547028, 0.11900000274181366, ...   \n",
      "2  [ [ 0.12770000100135803, 0.12745000422000885, ...   \n",
      "3  [ [ 0.14280000329017639, 0.13089999556541443, ...   \n",
      "4  [ [ 0.14720000326633453, 0.14720000326633453, ...   \n",
      "\n",
      "                                                  B4  \\\n",
      "0  [ [ 0.15119999647140503, 0.15119999647140503, ...   \n",
      "1  [ [ 0.1185000017285347, 0.1136000007390976, 0....   \n",
      "2  [ [ 0.12514999508857727, 0.12649999558925629, ...   \n",
      "3  [ [ 0.15320000052452087, 0.1387999951839447, 0...   \n",
      "4  [ [ 0.15099999308586121, 0.15099999308586121, ...   \n",
      "\n",
      "                                                  B6  \\\n",
      "0  [ [ 0.23849999904632568, 0.23849999904632568, ...   \n",
      "1  [ [ 0.20309999585151672, 0.20890000462532043, ...   \n",
      "2  [ [ 0.22294999659061432, 0.23274999856948853, ...   \n",
      "3  [ [ 0.23440000414848328, 0.21680000424385071, ...   \n",
      "4  [ [ 0.23530000448226929, 0.23530000448226929, ...   \n",
      "\n",
      "                                                  B8  \\\n",
      "0  [ [ 0.34160000085830688, 0.34160000085830688, ...   \n",
      "1  [ [ 0.26199999451637268, 0.23960000276565552, ...   \n",
      "2  [ [ 0.2630000114440918, 0.25819998979568481, 0...   \n",
      "3  [ [ 0.26120001077651978, 0.23000000417232513, ...   \n",
      "4  [ [ 0.29420000314712524, 0.29420000314712524, ...   \n",
      "\n",
      "                                                NDVI l1_leaf_types l2_genus  \\\n",
      "0  [ [ 0.38636365532875061, 0.38636365532875061, ...     broadleaf    beech   \n",
      "1  [ [ 0.37713533639907837, 0.3567383885383606, 0...     broadleaf    beech   \n",
      "2  [ [ 0.35497072339057922, 0.34200000762939453, ...     broadleaf    beech   \n",
      "3  [ [ 0.26061779260635376, 0.24728852510452271, ...     broadleaf    beech   \n",
      "4  [ [ 0.32165321707725525, 0.32165321707725525, ...     broadleaf    beech   \n",
      "\n",
      "       l3_species          geometry  id  \n",
      "0  european beech  MULTIPOINT EMPTY   0  \n",
      "1  european beech  MULTIPOINT EMPTY   1  \n",
      "2  european beech  MULTIPOINT EMPTY   2  \n",
      "3  european beech  MULTIPOINT EMPTY   3  \n",
      "4  european beech  MULTIPOINT EMPTY   4  \n"
     ]
    }
   ],
   "source": [
    "#labels_np = np.array(labels)\n",
    "print(labels[0:10, :])\n",
    "print(type(labels))\n",
    "print(merged_data.head())"
   ]
  },
  {
   "cell_type": "code",
   "execution_count": 10,
   "id": "46569071-4c85-48ac-9d4b-9d9ea50f9d81",
   "metadata": {},
   "outputs": [
    {
     "name": "stdout",
     "output_type": "stream",
     "text": [
      "                                                 B11  \\\n",
      "0  [ [ 0.30860000848770142, 0.30860000848770142, ...   \n",
      "1  [ [ 0.18799999356269836, 0.19380000233650208, ...   \n",
      "2  [ [ 0.20035000145435333, 0.20675000548362732, ...   \n",
      "3  [ [ 0.2955000102519989, 0.27259999513626099, 0...   \n",
      "4  [ [ 0.26890000700950623, 0.26890000700950623, ...   \n",
      "\n",
      "                                                  B3  \\\n",
      "0  [ [ 0.14970000088214874, 0.14970000088214874, ...   \n",
      "1  [ [ 0.12559999525547028, 0.11900000274181366, ...   \n",
      "2  [ [ 0.12770000100135803, 0.12745000422000885, ...   \n",
      "3  [ [ 0.14280000329017639, 0.13089999556541443, ...   \n",
      "4  [ [ 0.14720000326633453, 0.14720000326633453, ...   \n",
      "\n",
      "                                                  B4  \\\n",
      "0  [ [ 0.15119999647140503, 0.15119999647140503, ...   \n",
      "1  [ [ 0.1185000017285347, 0.1136000007390976, 0....   \n",
      "2  [ [ 0.12514999508857727, 0.12649999558925629, ...   \n",
      "3  [ [ 0.15320000052452087, 0.1387999951839447, 0...   \n",
      "4  [ [ 0.15099999308586121, 0.15099999308586121, ...   \n",
      "\n",
      "                                                  B6  \\\n",
      "0  [ [ 0.23849999904632568, 0.23849999904632568, ...   \n",
      "1  [ [ 0.20309999585151672, 0.20890000462532043, ...   \n",
      "2  [ [ 0.22294999659061432, 0.23274999856948853, ...   \n",
      "3  [ [ 0.23440000414848328, 0.21680000424385071, ...   \n",
      "4  [ [ 0.23530000448226929, 0.23530000448226929, ...   \n",
      "\n",
      "                                                  B8  \\\n",
      "0  [ [ 0.34160000085830688, 0.34160000085830688, ...   \n",
      "1  [ [ 0.26199999451637268, 0.23960000276565552, ...   \n",
      "2  [ [ 0.2630000114440918, 0.25819998979568481, 0...   \n",
      "3  [ [ 0.26120001077651978, 0.23000000417232513, ...   \n",
      "4  [ [ 0.29420000314712524, 0.29420000314712524, ...   \n",
      "\n",
      "                                                NDVI  \n",
      "0  [ [ 0.38636365532875061, 0.38636365532875061, ...  \n",
      "1  [ [ 0.37713533639907837, 0.3567383885383606, 0...  \n",
      "2  [ [ 0.35497072339057922, 0.34200000762939453, ...  \n",
      "3  [ [ 0.26061779260635376, 0.24728852510452271, ...  \n",
      "4  [ [ 0.32165321707725525, 0.32165321707725525, ...  \n"
     ]
    }
   ],
   "source": [
    "band_data = merged_data.iloc[:, :-5]\n",
    "print(band_data.head())\n",
    "#band_data = filtered_data.to_numpy()  # Convert to numpy array of shape (37901, 4)"
   ]
  },
  {
   "cell_type": "code",
   "execution_count": 11,
   "id": "37387a35-3e59-4f63-bdca-2ad4e58318b2",
   "metadata": {},
   "outputs": [],
   "source": [
    "# Convert each element in the 'B2_3', 'B4_3', 'B8_3', 'NDVI_3' columns into actual lists\n",
    "import ast\n",
    "\n",
    "band_data['B3'] = band_data['B3'].apply(ast.literal_eval)\n",
    "band_data['B4'] = band_data['B4'].apply(ast.literal_eval)\n",
    "band_data['B6'] = band_data['B6'].apply(ast.literal_eval)\n",
    "band_data['B8'] = band_data['B8'].apply(ast.literal_eval)\n",
    "band_data['B11'] = band_data['B11'].apply(ast.literal_eval)\n",
    "band_data['NDVI'] = band_data['NDVI'].apply(ast.literal_eval)"
   ]
  },
  {
   "cell_type": "code",
   "execution_count": 12,
   "id": "299a83de-5a04-44ea-bbc0-745187ab79f8",
   "metadata": {},
   "outputs": [],
   "source": [
    "# Initialize the 4D array to store the reshaped data\n",
    "rows = len(band_data)\n",
    "X = np.zeros((rows, 11, 11, 6), dtype=np.float32)\n",
    "\n",
    "# Loop through the rows and fill the 4D array with the band data\n",
    "for i in range(rows):\n",
    "    # Convert the list of lists into a NumPy array for each band\n",
    "    band_b3 = np.array(band_data['B3'][i], dtype=np.float32)  # Shape (11, 11)\n",
    "    band_b4 = np.array(band_data['B4'][i], dtype=np.float32)  # Shape (11, 11)\n",
    "    band_b6 = np.array(band_data['B6'][i], dtype=np.float32) \n",
    "    band_b8 = np.array(band_data['B8'][i], dtype=np.float32)\n",
    "    band_b11 = np.array(band_data['B11'][i], dtype=np.float32) # Shape (11, 11)\n",
    "    band_ndvi = np.array(band_data['NDVI'][i], dtype=np.float32)  # Shape (11, 11)\n",
    "\n",
    "    # Stack the bands together into a 3D array (11, 11, 4)\n",
    "    # This will create a 3D array where each band is along the 3rd axis (depth)\n",
    "    X[i, :, :, 0] = band_b3\n",
    "    X[i, :, :, 1] = band_b4\n",
    "    X[i, :, :, 2] = band_b6\n",
    "    X[i, :, :, 4] = band_b11\n",
    "    X[i, :, :, 3] = band_b8\n",
    "    X[i, :, :, 5] = band_ndvi"
   ]
  },
  {
   "cell_type": "code",
   "execution_count": 13,
   "id": "ea786216-1a4a-49e2-afc5-bc8eb7a93a62",
   "metadata": {},
   "outputs": [
    {
     "name": "stdout",
     "output_type": "stream",
     "text": [
      "(86445, 11, 11, 6)\n"
     ]
    }
   ],
   "source": [
    "print(X.shape)"
   ]
  },
  {
   "cell_type": "code",
   "execution_count": 19,
   "id": "977f3570-8f49-4e62-8888-ad64583e6833",
   "metadata": {},
   "outputs": [],
   "source": [
    "np.save('data/labels_nparray.npy', labels)"
   ]
  },
  {
   "cell_type": "code",
   "execution_count": 31,
   "id": "cb6ed3b6-408f-4533-b50c-b830201cf8a1",
   "metadata": {},
   "outputs": [
    {
     "name": "stdout",
     "output_type": "stream",
     "text": [
      "       broadleaf  needleleaf\n",
      "0              1           0\n",
      "1              1           0\n",
      "2              1           0\n",
      "3              1           0\n",
      "4              1           0\n",
      "...          ...         ...\n",
      "86440          0           1\n",
      "86441          0           1\n",
      "86442          0           1\n",
      "86443          0           1\n",
      "86444          0           1\n",
      "\n",
      "[86445 rows x 2 columns]\n"
     ]
    }
   ],
   "source": [
    "unique_leaf = merged_data['l1_leaf_types'].unique()\n",
    "\n",
    "# Create a new label DataFrame with rows = images and columns = species, initialized to 0\n",
    "\n",
    "leaf_labels = pd.DataFrame(0, index=merged_data['id'], columns=unique_leaf)\n",
    "\n",
    "# Populate the label DataFrame\n",
    "for idx, row in merged_data.iterrows():\n",
    "    leaf = row['l1_leaf_types']\n",
    "    leaf_labels.loc[row['id'], leaf] = 1\n",
    "\n",
    "# Reset the index for better readability (optional)\n",
    "leaf_labels.reset_index(inplace=True)\n",
    "leaf_labels.rename(columns={'index': 'id'}, inplace=True)\n",
    "leaf_labels = leaf_labels.iloc[:, 1:]\n",
    "\n",
    "# Show the resulting DataFrame\n",
    "print(leaf_labels)\n",
    "\n",
    "leaf_labels = leaf_labels.values"
   ]
  },
  {
   "cell_type": "code",
   "execution_count": 32,
   "id": "870c93d2-20de-4e52-88d0-3e8c3fc9a683",
   "metadata": {},
   "outputs": [],
   "source": [
    "np.save('data/leaf_labels_nparray.npy', leaf_labels)"
   ]
  },
  {
   "cell_type": "code",
   "execution_count": null,
   "id": "fb96e965-d42f-4936-9c15-229bf04fcca2",
   "metadata": {},
   "outputs": [],
   "source": []
  }
 ],
 "metadata": {
  "kernelspec": {
   "display_name": "Python 3 (ipykernel)",
   "language": "python",
   "name": "python3"
  },
  "language_info": {
   "codemirror_mode": {
    "name": "ipython",
    "version": 3
   },
   "file_extension": ".py",
   "mimetype": "text/x-python",
   "name": "python",
   "nbconvert_exporter": "python",
   "pygments_lexer": "ipython3",
   "version": "3.10.0"
  }
 },
 "nbformat": 4,
 "nbformat_minor": 5
}
