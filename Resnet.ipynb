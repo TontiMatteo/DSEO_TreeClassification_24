{
 "cells": [
  {
   "cell_type": "code",
   "execution_count": 1,
   "id": "453f5ed6-9cd2-46ed-b5bd-7ef4c09d558b",
   "metadata": {},
   "outputs": [],
   "source": [
    "import geopandas as gpd\n",
    "import pandas as pd\n",
    "import os\n",
    "import numpy as np\n",
    "import torch\n",
    "from sklearn.model_selection import train_test_split\n",
    "from sklearn.preprocessing import OneHotEncoder\n",
    "import matplotlib.pyplot as plt\n",
    "from sklearn.ensemble import RandomForestClassifier\n",
    "from sklearn.metrics import confusion_matrix\n",
    "from sklearn.metrics import ConfusionMatrixDisplay\n",
    "from sklearn.metrics import accuracy_score"
   ]
  },
  {
   "cell_type": "code",
   "execution_count": 2,
   "id": "3d844b1b-9ea2-4735-86df-a9086a63db57",
   "metadata": {},
   "outputs": [],
   "source": [
    "from torch import nn\n",
    "from torchvision import models\n",
    "import torch.optim as optim\n",
    "from torch.utils.data import DataLoader, TensorDataset\n",
    "import torch"
   ]
  },
  {
   "cell_type": "code",
   "execution_count": 3,
   "id": "901376a5-728a-46cd-a74a-5ed420289f43",
   "metadata": {},
   "outputs": [],
   "source": [
    "merged_data = gpd.read_file(\"merged_data.geojson\")"
   ]
  },
  {
   "cell_type": "code",
   "execution_count": 4,
   "id": "e6645d45-cabc-4e8b-8d96-5f8606c797b1",
   "metadata": {},
   "outputs": [
    {
     "name": "stdout",
     "output_type": "stream",
     "text": [
      "       european beech  cherry  european ash  linden  sycamore maple  \\\n",
      "0                   1       0             0       0               0   \n",
      "1                   1       0             0       0               0   \n",
      "2                   1       0             0       0               0   \n",
      "3                   1       0             0       0               0   \n",
      "4                   1       0             0       0               0   \n",
      "...               ...     ...           ...     ...             ...   \n",
      "37896               0       0             0       0               0   \n",
      "37897               0       0             0       0               0   \n",
      "37898               0       0             0       0               0   \n",
      "37899               0       0             0       0               0   \n",
      "37900               0       0             0       0               0   \n",
      "\n",
      "       english oak  red oak  sessile oak  alder  birch  poplar  douglas fir  \\\n",
      "0                0        0            0      0      0       0            0   \n",
      "1                0        0            0      0      0       0            0   \n",
      "2                0        0            0      0      0       0            0   \n",
      "3                0        0            0      0      0       0            0   \n",
      "4                0        0            0      0      0       0            0   \n",
      "...            ...      ...          ...    ...    ...     ...          ...   \n",
      "37896            0        0            0      0      0       0            0   \n",
      "37897            0        0            0      0      0       0            0   \n",
      "37898            0        0            0      0      0       0            0   \n",
      "37899            0        0            0      0      0       0            0   \n",
      "37900            0        0            0      0      0       0            0   \n",
      "\n",
      "       silver fir  european larch  japanese larch  black pine  scots pine  \\\n",
      "0               0               0               0           0           0   \n",
      "1               0               0               0           0           0   \n",
      "2               0               0               0           0           0   \n",
      "3               0               0               0           0           0   \n",
      "4               0               0               0           0           0   \n",
      "...           ...             ...             ...         ...         ...   \n",
      "37896           0               0               0           0           0   \n",
      "37897           0               0               0           0           0   \n",
      "37898           0               0               0           0           0   \n",
      "37899           0               0               0           0           0   \n",
      "37900           0               0               0           0           0   \n",
      "\n",
      "       weymouth pine  norway spruce  \n",
      "0                  0              0  \n",
      "1                  0              0  \n",
      "2                  0              0  \n",
      "3                  0              0  \n",
      "4                  0              0  \n",
      "...              ...            ...  \n",
      "37896              0              1  \n",
      "37897              0              1  \n",
      "37898              0              1  \n",
      "37899              0              1  \n",
      "37900              0              1  \n",
      "\n",
      "[37901 rows x 19 columns]\n"
     ]
    }
   ],
   "source": [
    "# Assuming your data is loaded into df\n",
    "# Get unique species\n",
    "unique_species = merged_data['l3_species'].unique()\n",
    "\n",
    "# Create a new label DataFrame with rows = images and columns = species, initialized to 0\n",
    "labels = pd.DataFrame(0, index=merged_data['id'], columns=unique_species)\n",
    "\n",
    "# Populate the label DataFrame\n",
    "for idx, row in merged_data.iterrows():\n",
    "    species = row['l3_species']\n",
    "    labels.loc[row['id'], species] = 1\n",
    "\n",
    "# Reset the index for better readability (optional)\n",
    "labels.reset_index(inplace=True)\n",
    "labels.rename(columns={'index': 'id'}, inplace=True)\n",
    "labels = labels.iloc[:, 1:]\n",
    "\n",
    "# Show the resulting DataFrame\n",
    "print(labels)"
   ]
  },
  {
   "cell_type": "code",
   "execution_count": 5,
   "id": "c1fca0cd-d494-4aa8-947d-4c8e98e0a18e",
   "metadata": {},
   "outputs": [
    {
     "name": "stdout",
     "output_type": "stream",
     "text": [
      "[[1 0 0 ... 0 0 0]\n",
      " [1 0 0 ... 0 0 0]\n",
      " [1 0 0 ... 0 0 0]\n",
      " ...\n",
      " [0 0 0 ... 0 0 1]\n",
      " [0 0 0 ... 0 0 1]\n",
      " [0 0 0 ... 0 0 1]]\n"
     ]
    }
   ],
   "source": [
    "labels = labels.values\n",
    "\n",
    "print(labels)"
   ]
  },
  {
   "cell_type": "code",
   "execution_count": 6,
   "id": "4ba0c3e9-d67b-4c70-b6df-024343fea5df",
   "metadata": {},
   "outputs": [
    {
     "name": "stdout",
     "output_type": "stream",
     "text": [
      "[[1 0 0 0 0 0 0 0 0 0 0 0 0 0 0 0 0 0 0]\n",
      " [1 0 0 0 0 0 0 0 0 0 0 0 0 0 0 0 0 0 0]\n",
      " [1 0 0 0 0 0 0 0 0 0 0 0 0 0 0 0 0 0 0]\n",
      " [1 0 0 0 0 0 0 0 0 0 0 0 0 0 0 0 0 0 0]\n",
      " [1 0 0 0 0 0 0 0 0 0 0 0 0 0 0 0 0 0 0]\n",
      " [1 0 0 0 0 0 0 0 0 0 0 0 0 0 0 0 0 0 0]\n",
      " [1 0 0 0 0 0 0 0 0 0 0 0 0 0 0 0 0 0 0]\n",
      " [1 0 0 0 0 0 0 0 0 0 0 0 0 0 0 0 0 0 0]\n",
      " [1 0 0 0 0 0 0 0 0 0 0 0 0 0 0 0 0 0 0]\n",
      " [1 0 0 0 0 0 0 0 0 0 0 0 0 0 0 0 0 0 0]]\n",
      "<class 'numpy.ndarray'>\n"
     ]
    }
   ],
   "source": [
    "#labels_np = np.array(labels)\n",
    "print(labels[0:10, :])\n",
    "print(type(labels))"
   ]
  },
  {
   "cell_type": "code",
   "execution_count": 7,
   "id": "5f086b2e-e14b-4f67-a34a-d629aa22df9c",
   "metadata": {},
   "outputs": [],
   "source": [
    "band_data = merged_data.iloc[:, 1:-4]"
   ]
  },
  {
   "cell_type": "code",
   "execution_count": 8,
   "id": "56377b44-6e7d-466a-8230-8632355c6845",
   "metadata": {},
   "outputs": [],
   "source": [
    "# Convert each element in the 'B2_3', 'B4_3', 'B8_3', 'NDVI_3' columns into actual lists\n",
    "import ast\n",
    "\n",
    "band_data['B2_3'] = band_data['B2_3'].apply(ast.literal_eval)\n",
    "band_data['B4_3'] = band_data['B4_3'].apply(ast.literal_eval)\n",
    "band_data['B8_3'] = band_data['B8_3'].apply(ast.literal_eval)\n",
    "band_data['NDVI_3'] = band_data['NDVI_3'].apply(ast.literal_eval)"
   ]
  },
  {
   "cell_type": "code",
   "execution_count": 9,
   "id": "66a6882f-1c0f-47d6-97b2-d760b8f26696",
   "metadata": {},
   "outputs": [],
   "source": [
    "# Initialize the 4D array to store the reshaped data\n",
    "rows = len(band_data)\n",
    "X = np.zeros((rows, 11, 11, 4), dtype=np.float32)\n",
    "\n",
    "# Loop through the rows and fill the 4D array with the band data\n",
    "for i in range(rows):\n",
    "    # Convert the list of lists into a NumPy array for each band\n",
    "    band_b2 = np.array(band_data['B2_3'][i], dtype=np.float32)  # Shape (11, 11)\n",
    "    band_b4 = np.array(band_data['B4_3'][i], dtype=np.float32)  # Shape (11, 11)\n",
    "    band_b8 = np.array(band_data['B8_3'][i], dtype=np.float32)  # Shape (11, 11)\n",
    "    band_ndvi = np.array(band_data['NDVI_3'][i], dtype=np.float32)  # Shape (11, 11)\n",
    "\n",
    "    # Stack the bands together into a 3D array (11, 11, 4)\n",
    "    # This will create a 3D array where each band is along the 3rd axis (depth)\n",
    "    X[i, :, :, 2] = band_b2\n",
    "    X[i, :, :, 0] = band_b4\n",
    "    X[i, :, :, 1] = band_b8\n",
    "    X[i, :, :, 3] = band_ndvi"
   ]
  },
  {
   "cell_type": "code",
   "execution_count": 10,
   "id": "d772f5ec-d137-4e94-a07a-24c0847efd7c",
   "metadata": {},
   "outputs": [],
   "source": [
    "number_samples = X.shape[0]\n",
    "#X_res = np.reshape(X, (number_samples, 11*11*4))\n",
    "#y_res = np.argmax(labels, axis=1)\n",
    "\n",
    "X_train, X_test, y_train, y_test = train_test_split(X, labels, test_size=0.2, random_state=24, shuffle=True)"
   ]
  },
  {
   "cell_type": "code",
   "execution_count": 11,
   "id": "14bbef1d-de5e-4b76-ad5b-4f52ca0646bd",
   "metadata": {},
   "outputs": [
    {
     "name": "stderr",
     "output_type": "stream",
     "text": [
      "C:\\Users\\matte\\.conda\\envs\\dseo\\lib\\site-packages\\torchvision\\models\\_utils.py:208: UserWarning: The parameter 'pretrained' is deprecated since 0.13 and may be removed in the future, please use 'weights' instead.\n",
      "  warnings.warn(\n",
      "C:\\Users\\matte\\.conda\\envs\\dseo\\lib\\site-packages\\torchvision\\models\\_utils.py:223: UserWarning: Arguments other than a weight enum or `None` for 'weights' are deprecated since 0.13 and may be removed in the future. The current behavior is equivalent to passing `weights=ResNet50_Weights.IMAGENET1K_V1`. You can also use `weights=ResNet50_Weights.DEFAULT` to get the most up-to-date weights.\n",
      "  warnings.warn(msg)\n"
     ]
    }
   ],
   "source": [
    "model = models.resnet50(pretrained=True)\n",
    "\n",
    "#model.features[0][0] = nn.Conv2d(4, model.features[0][0].out_channels, kernel_size=3, stride=2, padding=1, bias=False)\n",
    "\n",
    "original_conv1 = model.conv1\n",
    "model.conv1 = nn.Conv2d(\n",
    "    in_channels=4,  # Change the input channels to 4\n",
    "    out_channels=original_conv1.out_channels,\n",
    "    kernel_size=original_conv1.kernel_size,\n",
    "    stride=original_conv1.stride,\n",
    "    padding=original_conv1.padding,\n",
    "    bias=original_conv1.bias\n",
    ")\n",
    "\n",
    "with torch.no_grad():\n",
    "    model.conv1.weight[:, :3, :, :] = original_conv1.weight  # Copy the weights of the first three channels\n",
    "    model.conv1.weight[:, 3, :, :] = original_conv1.weight[:, 0, :, :] "
   ]
  },
  {
   "cell_type": "code",
   "execution_count": 75,
   "id": "5b45c4bf-fa96-4167-97d9-f5057a3b75c2",
   "metadata": {},
   "outputs": [
    {
     "ename": "NameError",
     "evalue": "name 'long' is not defined",
     "output_type": "error",
     "traceback": [
      "\u001b[1;31m---------------------------------------------------------------------------\u001b[0m",
      "\u001b[1;31mNameError\u001b[0m                                 Traceback (most recent call last)",
      "Cell \u001b[1;32mIn[75], line 5\u001b[0m\n\u001b[0;32m      2\u001b[0m \u001b[38;5;66;03m#model.classifier[1] = nn.Linear(model.classifier[1].in_features, num_classes)\u001b[39;00m\n\u001b[0;32m      3\u001b[0m model\u001b[38;5;241m.\u001b[39mfc \u001b[38;5;241m=\u001b[39m nn\u001b[38;5;241m.\u001b[39mLinear(model\u001b[38;5;241m.\u001b[39mfc\u001b[38;5;241m.\u001b[39min_features, num_classes)\n\u001b[1;32m----> 5\u001b[0m criterion \u001b[38;5;241m=\u001b[39m \u001b[43mFocalLoss\u001b[49m\u001b[43m(\u001b[49m\u001b[43malpha\u001b[49m\u001b[38;5;241;43m=\u001b[39;49m\u001b[38;5;241;43m1\u001b[39;49m\u001b[43m,\u001b[49m\u001b[43m \u001b[49m\u001b[43mgamma\u001b[49m\u001b[38;5;241;43m=\u001b[39;49m\u001b[38;5;241;43m2\u001b[39;49m\u001b[43m)\u001b[49m\n\u001b[0;32m      6\u001b[0m optimizer \u001b[38;5;241m=\u001b[39m optim\u001b[38;5;241m.\u001b[39mAdam(model\u001b[38;5;241m.\u001b[39mparameters(), lr\u001b[38;5;241m=\u001b[39m\u001b[38;5;241m0.001\u001b[39m)\n",
      "Cell \u001b[1;32mIn[74], line 9\u001b[0m, in \u001b[0;36mFocalLoss.__init__\u001b[1;34m(self, gamma, alpha, size_average)\u001b[0m\n\u001b[0;32m      7\u001b[0m \u001b[38;5;28mself\u001b[39m\u001b[38;5;241m.\u001b[39mgamma \u001b[38;5;241m=\u001b[39m gamma\n\u001b[0;32m      8\u001b[0m \u001b[38;5;28mself\u001b[39m\u001b[38;5;241m.\u001b[39malpha \u001b[38;5;241m=\u001b[39m alpha\n\u001b[1;32m----> 9\u001b[0m \u001b[38;5;28;01mif\u001b[39;00m \u001b[38;5;28misinstance\u001b[39m(alpha,(\u001b[38;5;28mfloat\u001b[39m,\u001b[38;5;28mint\u001b[39m,\u001b[43mlong\u001b[49m)): \u001b[38;5;28mself\u001b[39m\u001b[38;5;241m.\u001b[39malpha \u001b[38;5;241m=\u001b[39m torch\u001b[38;5;241m.\u001b[39mTensor([alpha,\u001b[38;5;241m1\u001b[39m\u001b[38;5;241m-\u001b[39malpha])\n\u001b[0;32m     10\u001b[0m \u001b[38;5;28;01mif\u001b[39;00m \u001b[38;5;28misinstance\u001b[39m(alpha,\u001b[38;5;28mlist\u001b[39m): \u001b[38;5;28mself\u001b[39m\u001b[38;5;241m.\u001b[39malpha \u001b[38;5;241m=\u001b[39m torch\u001b[38;5;241m.\u001b[39mTensor(alpha)\n\u001b[0;32m     11\u001b[0m \u001b[38;5;28mself\u001b[39m\u001b[38;5;241m.\u001b[39msize_average \u001b[38;5;241m=\u001b[39m size_average\n",
      "\u001b[1;31mNameError\u001b[0m: name 'long' is not defined"
     ]
    }
   ],
   "source": [
    "num_classes = 19 \n",
    "#model.classifier[1] = nn.Linear(model.classifier[1].in_features, num_classes)\n",
    "model.fc = nn.Linear(model.fc.in_features, num_classes)\n",
    "\n",
    "criterion = nn.CrossEntropyLoss()\n",
    "optimizer = optim.Adam(model.parameters(), lr=0.001)"
   ]
  },
  {
   "cell_type": "code",
   "execution_count": 71,
   "id": "7db5bf30-9806-4f36-bd1b-52fe1765ce04",
   "metadata": {},
   "outputs": [
    {
     "name": "stdout",
     "output_type": "stream",
     "text": [
      "tensor([[0, 0, 0,  ..., 0, 0, 0],\n",
      "        [0, 0, 0,  ..., 0, 0, 1],\n",
      "        [0, 0, 0,  ..., 0, 0, 1],\n",
      "        ...,\n",
      "        [0, 0, 0,  ..., 0, 0, 0],\n",
      "        [0, 0, 0,  ..., 0, 0, 0],\n",
      "        [1, 0, 0,  ..., 0, 0, 0]])\n"
     ]
    }
   ],
   "source": [
    "X_tensor = torch.from_numpy(X_train).float().permute(0, 3, 1, 2)\n",
    "y_tensor = torch.from_numpy(y_train).long()\n",
    "print(y_tensor)"
   ]
  },
  {
   "cell_type": "code",
   "execution_count": 72,
   "id": "7061fa7e-c55f-4e73-85b5-69c281bbfea0",
   "metadata": {},
   "outputs": [],
   "source": [
    "dataset = TensorDataset(X_tensor, y_tensor)\n",
    "\n",
    "# Crea un DataLoader\n",
    "dataloader = DataLoader(dataset, batch_size=32, shuffle=True)\n"
   ]
  },
  {
   "cell_type": "code",
   "execution_count": 73,
   "id": "759da8df-e423-4ef3-8a65-c6ce644f8c98",
   "metadata": {},
   "outputs": [
    {
     "ename": "RuntimeError",
     "evalue": "Index tensor must have the same number of dimensions as input tensor",
     "output_type": "error",
     "traceback": [
      "\u001b[1;31m---------------------------------------------------------------------------\u001b[0m",
      "\u001b[1;31mRuntimeError\u001b[0m                              Traceback (most recent call last)",
      "Cell \u001b[1;32mIn[73], line 14\u001b[0m\n\u001b[0;32m     11\u001b[0m optimizer\u001b[38;5;241m.\u001b[39mzero_grad()\n\u001b[0;32m     13\u001b[0m outputs \u001b[38;5;241m=\u001b[39m model(inputs)  \n\u001b[1;32m---> 14\u001b[0m loss \u001b[38;5;241m=\u001b[39m \u001b[43mcriterion\u001b[49m\u001b[43m(\u001b[49m\u001b[43moutputs\u001b[49m\u001b[43m,\u001b[49m\u001b[43m \u001b[49m\u001b[43mlabels\u001b[49m\u001b[43m)\u001b[49m  \n\u001b[0;32m     16\u001b[0m loss\u001b[38;5;241m.\u001b[39mbackward()  \n\u001b[0;32m     17\u001b[0m optimizer\u001b[38;5;241m.\u001b[39mstep()  \n",
      "File \u001b[1;32m~\\.conda\\envs\\dseo\\lib\\site-packages\\torch\\nn\\modules\\module.py:1736\u001b[0m, in \u001b[0;36mModule._wrapped_call_impl\u001b[1;34m(self, *args, **kwargs)\u001b[0m\n\u001b[0;32m   1734\u001b[0m     \u001b[38;5;28;01mreturn\u001b[39;00m \u001b[38;5;28mself\u001b[39m\u001b[38;5;241m.\u001b[39m_compiled_call_impl(\u001b[38;5;241m*\u001b[39margs, \u001b[38;5;241m*\u001b[39m\u001b[38;5;241m*\u001b[39mkwargs)  \u001b[38;5;66;03m# type: ignore[misc]\u001b[39;00m\n\u001b[0;32m   1735\u001b[0m \u001b[38;5;28;01melse\u001b[39;00m:\n\u001b[1;32m-> 1736\u001b[0m     \u001b[38;5;28;01mreturn\u001b[39;00m \u001b[38;5;28mself\u001b[39m\u001b[38;5;241m.\u001b[39m_call_impl(\u001b[38;5;241m*\u001b[39margs, \u001b[38;5;241m*\u001b[39m\u001b[38;5;241m*\u001b[39mkwargs)\n",
      "File \u001b[1;32m~\\.conda\\envs\\dseo\\lib\\site-packages\\torch\\nn\\modules\\module.py:1747\u001b[0m, in \u001b[0;36mModule._call_impl\u001b[1;34m(self, *args, **kwargs)\u001b[0m\n\u001b[0;32m   1742\u001b[0m \u001b[38;5;66;03m# If we don't have any hooks, we want to skip the rest of the logic in\u001b[39;00m\n\u001b[0;32m   1743\u001b[0m \u001b[38;5;66;03m# this function, and just call forward.\u001b[39;00m\n\u001b[0;32m   1744\u001b[0m \u001b[38;5;28;01mif\u001b[39;00m \u001b[38;5;129;01mnot\u001b[39;00m (\u001b[38;5;28mself\u001b[39m\u001b[38;5;241m.\u001b[39m_backward_hooks \u001b[38;5;129;01mor\u001b[39;00m \u001b[38;5;28mself\u001b[39m\u001b[38;5;241m.\u001b[39m_backward_pre_hooks \u001b[38;5;129;01mor\u001b[39;00m \u001b[38;5;28mself\u001b[39m\u001b[38;5;241m.\u001b[39m_forward_hooks \u001b[38;5;129;01mor\u001b[39;00m \u001b[38;5;28mself\u001b[39m\u001b[38;5;241m.\u001b[39m_forward_pre_hooks\n\u001b[0;32m   1745\u001b[0m         \u001b[38;5;129;01mor\u001b[39;00m _global_backward_pre_hooks \u001b[38;5;129;01mor\u001b[39;00m _global_backward_hooks\n\u001b[0;32m   1746\u001b[0m         \u001b[38;5;129;01mor\u001b[39;00m _global_forward_hooks \u001b[38;5;129;01mor\u001b[39;00m _global_forward_pre_hooks):\n\u001b[1;32m-> 1747\u001b[0m     \u001b[38;5;28;01mreturn\u001b[39;00m forward_call(\u001b[38;5;241m*\u001b[39margs, \u001b[38;5;241m*\u001b[39m\u001b[38;5;241m*\u001b[39mkwargs)\n\u001b[0;32m   1749\u001b[0m result \u001b[38;5;241m=\u001b[39m \u001b[38;5;28;01mNone\u001b[39;00m\n\u001b[0;32m   1750\u001b[0m called_always_called_hooks \u001b[38;5;241m=\u001b[39m \u001b[38;5;28mset\u001b[39m()\n",
      "Cell \u001b[1;32mIn[69], line 20\u001b[0m, in \u001b[0;36mFocalLoss.forward\u001b[1;34m(self, inputs, targets)\u001b[0m\n\u001b[0;32m     17\u001b[0m     targets \u001b[38;5;241m=\u001b[39m targets\u001b[38;5;241m.\u001b[39msqueeze(\u001b[38;5;241m1\u001b[39m)  \u001b[38;5;66;03m# Remove the second dimension if needed\u001b[39;00m\n\u001b[0;32m     19\u001b[0m \u001b[38;5;66;03m# Gather log_probs corresponding to the targets\u001b[39;00m\n\u001b[1;32m---> 20\u001b[0m log_probs \u001b[38;5;241m=\u001b[39m \u001b[43mlog_probs\u001b[49m\u001b[38;5;241;43m.\u001b[39;49m\u001b[43mgather\u001b[49m\u001b[43m(\u001b[49m\u001b[38;5;241;43m1\u001b[39;49m\u001b[43m,\u001b[49m\u001b[43m \u001b[49m\u001b[43mtargets\u001b[49m\u001b[38;5;241;43m.\u001b[39;49m\u001b[43munsqueeze\u001b[49m\u001b[43m(\u001b[49m\u001b[38;5;241;43m1\u001b[39;49m\u001b[43m)\u001b[49m\u001b[43m)\u001b[49m\u001b[38;5;241m.\u001b[39msqueeze(\u001b[38;5;241m1\u001b[39m)\n\u001b[0;32m     21\u001b[0m probs \u001b[38;5;241m=\u001b[39m torch\u001b[38;5;241m.\u001b[39mexp(log_probs)\n\u001b[0;32m     23\u001b[0m \u001b[38;5;66;03m# Compute the focal weight\u001b[39;00m\n",
      "\u001b[1;31mRuntimeError\u001b[0m: Index tensor must have the same number of dimensions as input tensor"
     ]
    }
   ],
   "source": [
    "num_epochs = 5\n",
    "for epoch in range(num_epochs):\n",
    "    model.train()\n",
    "    running_loss = 0.0\n",
    "    \n",
    "\n",
    "    for inputs, labels in dataloader:\n",
    "\n",
    "        #inputs, labels = inputs.to(device), labels.to(device)\n",
    "        \n",
    "        optimizer.zero_grad()\n",
    "        \n",
    "        outputs = model(inputs)  \n",
    "        loss = criterion(outputs, labels)  \n",
    "        \n",
    "        loss.backward()  \n",
    "        optimizer.step()  \n",
    "        \n",
    "        running_loss += loss.item()\n",
    "    \n",
    "    print(f'Epoch [{epoch+1}/{num_epochs}], Loss: {running_loss/len(dataloader)}')\n",
    "\n",
    "# Salva il modello\n",
    "torch.save(model.state_dict(), 'resnet50_finetuned_fl.pth')"
   ]
  },
  {
   "cell_type": "code",
   "execution_count": null,
   "id": "c157426c-8e61-487e-a436-a5d80de37b28",
   "metadata": {},
   "outputs": [],
   "source": [
    "model.eval()\n",
    "\n",
    "X_torch = torch.from_numpy(X_test).permute(0, 3, 1, 2)\n",
    "\n",
    "y_pred = model(X_torch)"
   ]
  },
  {
   "cell_type": "code",
   "execution_count": null,
   "id": "36740ec6-830f-4e61-a1d8-85f135e35368",
   "metadata": {},
   "outputs": [],
   "source": [
    "y_pred_np = y_pred.detach().cpu().numpy()\n",
    "y_pred_labels = np.argmax(y_pred_np, axis=1)\n",
    "\n",
    "#y_test = np.argmax(y_test, axis=1)\n",
    "\n",
    "ConfusionMatrixDisplay.from_predictions(y_test, y_pred_labels)\n",
    "plt.show()\n",
    "\n",
    "acc = accuracy_score(y_test, y_pred_labels)\n",
    "print(\"Accuracy EfficientNetb0: \", acc)"
   ]
  },
  {
   "cell_type": "code",
   "execution_count": null,
   "id": "668ee9f8-e824-429e-b7ff-34ba3e6a6748",
   "metadata": {},
   "outputs": [],
   "source": []
  }
 ],
 "metadata": {
  "kernelspec": {
   "display_name": "Python 3 (ipykernel)",
   "language": "python",
   "name": "python3"
  },
  "language_info": {
   "codemirror_mode": {
    "name": "ipython",
    "version": 3
   },
   "file_extension": ".py",
   "mimetype": "text/x-python",
   "name": "python",
   "nbconvert_exporter": "python",
   "pygments_lexer": "ipython3",
   "version": "3.10.0"
  }
 },
 "nbformat": 4,
 "nbformat_minor": 5
}
